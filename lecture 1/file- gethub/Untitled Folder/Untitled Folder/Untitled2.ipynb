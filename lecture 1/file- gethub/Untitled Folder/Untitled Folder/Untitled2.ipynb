{
 "cells": [
  {
   "cell_type": "code",
   "execution_count": 22,
   "metadata": {},
   "outputs": [],
   "source": [
    "import requests\n",
    "import random"
   ]
  },
  {
   "cell_type": "code",
   "execution_count": 6,
   "metadata": {},
   "outputs": [],
   "source": [
    "url = r\"https://cb.lk/speech\""
   ]
  },
  {
   "cell_type": "code",
   "execution_count": 7,
   "metadata": {},
   "outputs": [],
   "source": [
    "response = requests.get(url)"
   ]
  },
  {
   "cell_type": "code",
   "execution_count": 25,
   "metadata": {},
   "outputs": [],
   "source": [
    "text = \"\"\" I'm sorry but\n",
    "Don't wanna talk, I need a moment before I go\n",
    "It's nothing personal\n",
    "I draw the blinds\n",
    "They don't need to see me cry\n",
    "'Cause even if they understand\n",
    "They don't understand\n",
    "So then when I'm finished\n",
    "I'm all 'bout my business and ready to save the world\n",
    "I'm taking my misery\n",
    "Make it my bitch; can't be everyone's favorite girl\n",
    "So take aim and fire away\n",
    "I've never been so wide awake\n",
    "No, nobody but me can keep me safe\n",
    "And I'm on my way\n",
    "The blood moon is on the rise\n",
    "The fire burning in my eyes\n",
    "No, nobody but me can keep me safe\n",
    "And I'm on my way\n",
    "Lo siento mucho (Farru), pero me voy (Eh)\n",
    "Porque a tu lado me di cuenta que nada soy (Eh-ey)\n",
    "Y me cansé de luchar y de guerrear en vano\n",
    "De estar en la línea de fuego y de meter la mano\n",
    "Acepto mis errore', también soy humano\n",
    "Y tú no ve' que lo hago porque te amo (Pum-pum-pum-pum)\n",
    "Pero ya (Ya) no tengo más na' que hacer aquí (Aquí)\n",
    "Me voy, llegó la hora 'e partir (Partir)\n",
    "De mi propio camino, seguir lejos de ti\n",
    "So take aim and fire away\n",
    "I've never been so wide awake\n",
    "No, nobody but me can keep me safe\n",
    "And I'm on my way\n",
    "The blood moon is on the rise (Is on the rise, na-na)\n",
    "The fire burning in my eyes (The fire burning in my eyes)\n",
    "No, nobody but me can keep me safe\n",
    "And I'm on my way\n",
    "I'm on my way\n",
    "Everybody keep me safe\n",
    "Everybody keep me safe\n",
    "Everybody keep me safe\n",
    "Everybody, everybody on my way\n",
    "So take aim and fire away\n",
    "I've never been so wide awake\n",
    "No, nobody but me can keep me safe\n",
    "And I'm on my way\n",
    "The blood moon is on the rise\n",
    "The fire burning in my eyes\n",
    "No, nobody but me can keep me safe\n",
    "And I'm on my way\"\"\""
   ]
  },
  {
   "cell_type": "code",
   "execution_count": 26,
   "metadata": {},
   "outputs": [],
   "source": [
    "k = 5"
   ]
  },
  {
   "cell_type": "code",
   "execution_count": 27,
   "metadata": {},
   "outputs": [],
   "source": [
    "counts = {}\n",
    "\n",
    "for i in range(k, len(text)):\n",
    "    cut = text[i-k: i]\n",
    "    nxt = text[i]\n",
    "    \n",
    "    if cut not in counts:\n",
    "        counts[cut] = {}\n",
    "        \n",
    "    if nxt not in counts[cut]:\n",
    "        counts[cut][nxt] = 0\n",
    "        \n",
    "    counts[cut][nxt] += 1   "
   ]
  },
  {
   "cell_type": "code",
   "execution_count": 28,
   "metadata": {},
   "outputs": [],
   "source": [
    "greeting = text[:20]"
   ]
  },
  {
   "cell_type": "code",
   "execution_count": 29,
   "metadata": {},
   "outputs": [],
   "source": [
    "for i in range(500):\n",
    "    cut = greeting[-k:]\n",
    "    top3 = sorted(counts[cut].items(), key= lambda item: item[1], reverse=True)[:3]\n",
    "    chosen = random.choice(top3)[0]\n",
    "    greeting = greeting + chosen\n",
    "    "
   ]
  },
  {
   "cell_type": "code",
   "execution_count": 30,
   "metadata": {},
   "outputs": [
    {
     "name": "stdout",
     "output_type": "stream",
     "text": [
      " I'm sorry but\n",
      "Don't understand\n",
      "So then when I'm on my way\n",
      "Lo siento mucho (Farru), pero me voy (Eh)\n",
      "Porque a tu lado me di cuenta que hacer aquí (Aquí)\n",
      "Me voy (Eh)\n",
      "Porque a tu lado me di cuenta que lo hago porque a tu lado me di cuenta que nada soy humano\n",
      "Acepto mis errore', también soy humano\n",
      "Acepto mis errore', también soy (Eh-ey)\n",
      "Y me can keep me safe\n",
      "And I'm on my eyes\n",
      "No, nobody keep me safe\n",
      "Everybody, everybody, everybody on my eyes)\n",
      "No, nobody keep me safe\n",
      "And I'm finished\n",
      "I'm on my way\n",
      "Lo siento mucho (Far\n"
     ]
    }
   ],
   "source": [
    "print(greeting)\n"
   ]
  },
  {
   "cell_type": "code",
   "execution_count": null,
   "metadata": {},
   "outputs": [],
   "source": []
  }
 ],
 "metadata": {
  "kernelspec": {
   "display_name": "Python 3",
   "language": "python",
   "name": "python3"
  },
  "language_info": {
   "codemirror_mode": {
    "name": "ipython",
    "version": 3
   },
   "file_extension": ".py",
   "mimetype": "text/x-python",
   "name": "python",
   "nbconvert_exporter": "python",
   "pygments_lexer": "ipython3",
   "version": "3.7.4"
  }
 },
 "nbformat": 4,
 "nbformat_minor": 4
}
