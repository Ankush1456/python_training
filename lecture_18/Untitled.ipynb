{
 "cells": [
  {
   "cell_type": "code",
   "execution_count": null,
   "metadata": {},
   "outputs": [],
   "source": [
    "def eq_sum_list(unprocessed, first =(), second()):\n",
    "    \n",
    "    if len(unprocessed)== 0:\n",
    "        if sum(first) == sum(second):\n",
    "            print(first,second)\n",
    "            \n",
    "        return\n",
    "    item = unprocessed[0]\n",
    "    eq_sum_list(unprocessed[1:], first+ (item,), second)\n",
    "    eq_sum_list(unprocessed[1:], first, second(item,))\n",
    "    \n",
    "    \n",
    "    "
   ]
  },
  {
   "cell_type": "code",
   "execution_count": null,
   "metadata": {},
   "outputs": [],
   "source": []
  }
 ],
 "metadata": {
  "kernelspec": {
   "display_name": "Python 3",
   "language": "python",
   "name": "python3"
  },
  "language_info": {
   "codemirror_mode": {
    "name": "ipython",
    "version": 3
   },
   "file_extension": ".py",
   "mimetype": "text/x-python",
   "name": "python",
   "nbconvert_exporter": "python",
   "pygments_lexer": "ipython3",
   "version": "3.7.4"
  }
 },
 "nbformat": 4,
 "nbformat_minor": 4
}
