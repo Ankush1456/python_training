{
 "cells": [
  {
   "cell_type": "code",
   "execution_count": 1,
   "metadata": {},
   "outputs": [],
   "source": [
    "class Node:\n",
    "    \n",
    "    def __init__(self, value, nxt=None):\n",
    "        \n",
    "        self .value =value\n",
    "        self .next =nxt"
   ]
  },
  {
   "cell_type": "code",
   "execution_count": 2,
   "metadata": {},
   "outputs": [],
   "source": [
    "class LinkedList:\n",
    "    \n",
    "    def __init__(self):\n",
    "        \n",
    "        self.head =None\n",
    "        self.tail = None\n",
    "        self.size = 0\n",
    "        \n",
    "    def insertFirst(self, value):\n",
    "        node = Node(value, self.head)\n",
    "        self.head = node\n",
    "        \n",
    "        if self.tail == None:\n",
    "            self.tail = self.head \n",
    "            \n",
    "        self.size += 1\n",
    "        \n",
    "    def __repr__(self):\n",
    "        \n",
    "        temp =self.head\n",
    "        ans =\"\"\n",
    "        while temp != None:\n",
    "            ans = ans + str(temp.value) + \"->\"\n",
    "            temp = temp.next\n",
    "            \n",
    "        return ans    \n",
    "        \n",
    "        "
   ]
  },
  {
   "cell_type": "code",
   "execution_count": 3,
   "metadata": {},
   "outputs": [],
   "source": [
    "ll = LinkedList()"
   ]
  },
  {
   "cell_type": "code",
   "execution_count": 4,
   "metadata": {},
   "outputs": [],
   "source": [
    "ll.insertFirst(\"Ankush\")\n",
    "ll.insertFirst(\"varun\")\n",
    "ll.insertFirst(\"Priya\")"
   ]
  },
  {
   "cell_type": "code",
   "execution_count": 5,
   "metadata": {},
   "outputs": [
    {
     "data": {
      "text/plain": [
       "Priya->varun->Ankush->"
      ]
     },
     "execution_count": 5,
     "metadata": {},
     "output_type": "execute_result"
    }
   ],
   "source": [
    "ll\n"
   ]
  },
  {
   "cell_type": "code",
   "execution_count": null,
   "metadata": {},
   "outputs": [],
   "source": []
  }
 ],
 "metadata": {
  "kernelspec": {
   "display_name": "Python 3",
   "language": "python",
   "name": "python3"
  },
  "language_info": {
   "codemirror_mode": {
    "name": "ipython",
    "version": 3
   },
   "file_extension": ".py",
   "mimetype": "text/x-python",
   "name": "python",
   "nbconvert_exporter": "python",
   "pygments_lexer": "ipython3",
   "version": "3.7.4"
  }
 },
 "nbformat": 4,
 "nbformat_minor": 4
}
