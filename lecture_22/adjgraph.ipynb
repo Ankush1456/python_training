{
 "cells": [
  {
   "cell_type": "code",
   "execution_count": 1,
   "metadata": {},
   "outputs": [],
   "source": [
    "class Vertix:\n",
    "    def __init__(self, value):\n",
    "        self.value = value\n",
    "        self.neighbour = []\n",
    "        "
   ]
  },
  {
   "cell_type": "code",
   "execution_count": 2,
   "metadata": {},
   "outputs": [],
   "source": [
    "class Graph:\n",
    "    def __init__(self):\n",
    "        self.vertices = []\n",
    "        "
   ]
  },
  {
   "cell_type": "code",
   "execution_count": 3,
   "metadata": {},
   "outputs": [],
   "source": [
    "def find(self, value):\n",
    "    for vertix in self.vertices:\n",
    "        if vertex.value == value:\n",
    "            return vertix\n",
    "    return None\n"
   ]
  },
  {
   "cell_type": "code",
   "execution_count": 4,
   "metadata": {},
   "outputs": [],
   "source": [
    "def add_vertex(self, value):\n",
    "    if not self.find(value):\n",
    "        self.vertices.append(Vertex(value))\n",
    "    else:\n",
    "        print(value,\"already exist\")"
   ]
  },
  {
   "cell_type": "code",
   "execution_count": 5,
   "metadata": {},
   "outputs": [],
   "source": [
    "def add_edge(self, sourse, target):\n",
    "    source_v = self.find(source)\n",
    "    target_v = self.find(target)\n",
    "    if source_v and target_v:\n",
    "        source_v.neighbour.append(target_v)\n",
    "        target_v.neighbour.append(source_v)\n",
    "    else:\n",
    "        print(\"some of\",source,target,\"is missing\" )\n",
    "        "
   ]
  },
  {
   "cell_type": "code",
   "execution_count": 6,
   "metadata": {},
   "outputs": [],
   "source": [
    "def display(self):\n",
    "    for vertix in self.vertices:\n",
    "        print(vertix, end=\", \")\n",
    "    print()\n",
    "    "
   ]
  },
  {
   "cell_type": "code",
   "execution_count": null,
   "metadata": {},
   "outputs": [],
   "source": [
    "def depth_first_trev(self, source=None):\n",
    "    if not source:\n",
    "        vertix = self.vertices[0]\n",
    "    else:\n",
    "        vertex = self.find(source)\n",
    "        \n",
    "    stack = list()\n",
    "    visited = set()\n",
    "    \n",
    "    stack.append(vertix)\n",
    "    visited.add(vertix)\n",
    "    \n",
    "    while len(stack) > 0:\n",
    "        vertex = stack.pop()\n",
    "        \n",
    "        print(vertex)\n",
    "        \n",
    "        for neighbour in vertex.neighbours:"
   ]
  }
 ],
 "metadata": {
  "kernelspec": {
   "display_name": "Python 3",
   "language": "python",
   "name": "python3"
  },
  "language_info": {
   "codemirror_mode": {
    "name": "ipython",
    "version": 3
   },
   "file_extension": ".py",
   "mimetype": "text/x-python",
   "name": "python",
   "nbconvert_exporter": "python",
   "pygments_lexer": "ipython3",
   "version": "3.7.4"
  }
 },
 "nbformat": 4,
 "nbformat_minor": 4
}
